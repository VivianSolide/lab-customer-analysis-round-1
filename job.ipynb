{
 "metadata": {
  "language_info": {
   "codemirror_mode": {
    "name": "ipython",
    "version": 3
   },
   "file_extension": ".py",
   "mimetype": "text/x-python",
   "name": "python",
   "nbconvert_exporter": "python",
   "pygments_lexer": "ipython3",
   "version": "3.8.2-final"
  },
  "orig_nbformat": 2,
  "kernelspec": {
   "name": "Python 3.8.2 64-bit",
   "display_name": "Python 3.8.2 64-bit",
   "metadata": {
    "interpreter": {
     "hash": "31f2aee4e71d21fbe5cf8b01ff0e069b9275f58929596ceb00d14d90e3e16cd6"
    }
   }
  }
 },
 "nbformat": 4,
 "nbformat_minor": 2,
 "cells": [
  {
   "cell_type": "code",
   "execution_count": 154,
   "metadata": {
    "tags": []
   },
   "outputs": [
    {
     "output_type": "stream",
     "name": "stdout",
     "text": "       income  monthly premium auto  total claim amount\n0         0.0                1000.0            2.704934\n1         0.0                  94.0         1131.464935\n2     48767.0                 108.0          566.472247\n3         0.0                 106.0          529.881344\n4     36357.0                  68.0           17.269323\n...       ...                   ...                 ...\n7065  71941.0                  73.0          198.234764\n7066  21604.0                  79.0          379.200000\n7067      0.0                  85.0          790.784983\n7068  21941.0                  96.0          691.200000\n7069      0.0                  77.0          369.600000\n\n[12074 rows x 3 columns]\n     customer       state gender  customer lifetime value   income  \\\n2     AI49188      Nevada      F              128874317.0  48767.0   \n4     GA49547  Washington      M               53630765.0  36357.0   \n5     OC83172      Oregon      F               82562978.0  62902.0   \n6     XZ87318      Oregon      F               53808986.0  55350.0   \n8     DY87989      Oregon      M              241275040.0  14072.0   \n...       ...         ...    ...                      ...      ...   \n7063  TF56202  California      M                      0.0  66367.0   \n7064  YM19146  California      F                      0.0  47761.0   \n7065  LA72316  California      M                      0.0  71941.0   \n7066  PK87824  California      F                      0.0  21604.0   \n7068  UP19263  California      M                      0.0  21941.0   \n\n      monthly premium auto     policy type  vehicle class  total claim amount  \n2                    108.0   Personal Auto   Two-Door Car          566.472247  \n4                     68.0   Personal Auto  Four-Door Car           17.269323  \n5                     69.0   Personal Auto   Two-Door Car          159.383042  \n6                     67.0  Corporate Auto  Four-Door Car          321.600000  \n8                     71.0  Corporate Auto  Four-Door Car          511.200000  \n...                    ...             ...            ...                 ...  \n7063                  64.0   Personal Auto   Two-Door Car          307.200000  \n7064                 104.0   Personal Auto  Four-Door Car          541.282007  \n7065                  73.0   Personal Auto  Four-Door Car          198.234764  \n7066                  79.0  Corporate Auto  Four-Door Car          379.200000  \n7068                  96.0   Personal Auto  Four-Door Car          691.200000  \n\n[6837 rows x 9 columns]\n"
    }
   ],
   "source": [
    "import pandas as pd\n",
    "import functools\n",
    "\n",
    "file1 = pd.read_csv(\"./files_for_lab/file1.csv\")\n",
    "file2 = pd.read_csv(\"./files_for_lab/file2.csv\")\n",
    "file3 = pd.read_csv(\"./files_for_lab/file3.csv\")\n",
    "\n",
    "# print(file1.shape)\n",
    "# print(file2.shape)\n",
    "# print(file3.shape)\n",
    "\n",
    "file1.columns = file1.columns.str.lower()\n",
    "file2.columns = file2.columns.str.lower()\n",
    "file3.columns = file3.columns.str.lower()\n",
    "\n",
    "# print(file1)\n",
    "# print(file2)\n",
    "# print(file3)\n",
    "\n",
    "columns_order = ['customer', 'state', 'gender', 'education', 'customer lifetime value', 'income', 'monthly premium auto', 'number of open complaints', 'policy type', 'vehicle class', 'total claim amount']\n",
    "\n",
    "file1 = file1.rename(columns={'st': 'state'})\n",
    "file1 = file1[columns_order]\n",
    "\n",
    "file2 = file2.rename(columns={'st': 'state'})\n",
    "file2 = file2[columns_order]\n",
    "\n",
    "file3 = file3[columns_order]\n",
    "\n",
    "data = pd.concat([file1,file2,file3])\n",
    "\n",
    "numerics = ['int16', 'int32', 'int64', 'float16', 'float32', 'float64']\n",
    "print(data.select_dtypes(include=numerics))\n",
    "# print(data.select_dtypes(exclude=numerics))\n",
    "\n",
    "data = data.drop(columns=[\"education\", \"number of open complaints\"])\n",
    "\n",
    "data['customer lifetime value'] = data['customer lifetime value'].str.replace(\"%\", \"\").fillna(0)\n",
    "data['customer lifetime value'] = pd.to_numeric(data['customer lifetime value']).multiply(100)\n",
    "\n",
    "data = data.drop_duplicates()\n",
    "\n",
    "data['income'] = pd.to_numeric(data['income']).fillna(0)\n",
    "\n",
    "filtered_data = data[data.income.gt(100)]\n",
    "\n"
   ]
  }
 ]
}